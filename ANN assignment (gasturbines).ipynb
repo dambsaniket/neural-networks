{
 "cells": [
  {
   "cell_type": "code",
   "execution_count": 1,
   "metadata": {
    "ExecuteTime": {
     "end_time": "2021-07-29T18:46:48.072146Z",
     "start_time": "2021-07-29T18:46:43.825139Z"
    }
   },
   "outputs": [],
   "source": [
    "import tensorflow as tf\n",
    "from tensorflow import keras\n",
    "from tensorflow.keras import layers\n",
    "from tensorflow.keras.models import Sequential, load_model\n",
    "import numpy as np \n",
    "import pandas as pd"
   ]
  },
  {
   "cell_type": "code",
   "execution_count": 2,
   "metadata": {
    "ExecuteTime": {
     "end_time": "2021-07-29T18:46:52.042570Z",
     "start_time": "2021-07-29T18:46:48.076106Z"
    }
   },
   "outputs": [
    {
     "name": "stdout",
     "output_type": "stream",
     "text": [
      "Requirement already satisfied: keras in c:\\users\\acer\\anaconda3\\lib\\site-packages (2.4.3)\n",
      "Requirement already satisfied: pyyaml in c:\\users\\acer\\anaconda3\\lib\\site-packages (from keras) (5.3.1)\n",
      "Requirement already satisfied: scipy>=0.14 in c:\\users\\acer\\anaconda3\\lib\\site-packages (from keras) (1.5.0)\n",
      "Requirement already satisfied: numpy>=1.9.1 in c:\\users\\acer\\anaconda3\\lib\\site-packages (from keras) (1.19.5)\n",
      "Requirement already satisfied: h5py in c:\\users\\acer\\anaconda3\\lib\\site-packages (from keras) (3.1.0)\n",
      "Note: you may need to restart the kernel to use updated packages.\n"
     ]
    }
   ],
   "source": [
    "pip install keras"
   ]
  },
  {
   "cell_type": "code",
   "execution_count": 3,
   "metadata": {
    "ExecuteTime": {
     "end_time": "2021-07-29T18:46:52.057526Z",
     "start_time": "2021-07-29T18:46:52.045557Z"
    }
   },
   "outputs": [],
   "source": [
    "seed=8\n",
    "np.random.seed(seed)"
   ]
  },
  {
   "cell_type": "code",
   "execution_count": 4,
   "metadata": {
    "ExecuteTime": {
     "end_time": "2021-07-29T18:46:52.120411Z",
     "start_time": "2021-07-29T18:46:52.060518Z"
    }
   },
   "outputs": [
    {
     "data": {
      "text/html": [
       "<div>\n",
       "<style scoped>\n",
       "    .dataframe tbody tr th:only-of-type {\n",
       "        vertical-align: middle;\n",
       "    }\n",
       "\n",
       "    .dataframe tbody tr th {\n",
       "        vertical-align: top;\n",
       "    }\n",
       "\n",
       "    .dataframe thead th {\n",
       "        text-align: right;\n",
       "    }\n",
       "</style>\n",
       "<table border=\"1\" class=\"dataframe\">\n",
       "  <thead>\n",
       "    <tr style=\"text-align: right;\">\n",
       "      <th></th>\n",
       "      <th>AT</th>\n",
       "      <th>AP</th>\n",
       "      <th>AH</th>\n",
       "      <th>AFDP</th>\n",
       "      <th>GTEP</th>\n",
       "      <th>TIT</th>\n",
       "      <th>TAT</th>\n",
       "      <th>TEY</th>\n",
       "      <th>CDP</th>\n",
       "      <th>CO</th>\n",
       "      <th>NOX</th>\n",
       "    </tr>\n",
       "  </thead>\n",
       "  <tbody>\n",
       "    <tr>\n",
       "      <th>0</th>\n",
       "      <td>6.8594</td>\n",
       "      <td>1007.9</td>\n",
       "      <td>96.799</td>\n",
       "      <td>3.5000</td>\n",
       "      <td>19.663</td>\n",
       "      <td>1059.2</td>\n",
       "      <td>550.00</td>\n",
       "      <td>114.70</td>\n",
       "      <td>10.605</td>\n",
       "      <td>3.1547</td>\n",
       "      <td>82.722</td>\n",
       "    </tr>\n",
       "    <tr>\n",
       "      <th>1</th>\n",
       "      <td>6.7850</td>\n",
       "      <td>1008.4</td>\n",
       "      <td>97.118</td>\n",
       "      <td>3.4998</td>\n",
       "      <td>19.728</td>\n",
       "      <td>1059.3</td>\n",
       "      <td>550.00</td>\n",
       "      <td>114.72</td>\n",
       "      <td>10.598</td>\n",
       "      <td>3.2363</td>\n",
       "      <td>82.776</td>\n",
       "    </tr>\n",
       "    <tr>\n",
       "      <th>2</th>\n",
       "      <td>6.8977</td>\n",
       "      <td>1008.8</td>\n",
       "      <td>95.939</td>\n",
       "      <td>3.4824</td>\n",
       "      <td>19.779</td>\n",
       "      <td>1059.4</td>\n",
       "      <td>549.87</td>\n",
       "      <td>114.71</td>\n",
       "      <td>10.601</td>\n",
       "      <td>3.2012</td>\n",
       "      <td>82.468</td>\n",
       "    </tr>\n",
       "    <tr>\n",
       "      <th>3</th>\n",
       "      <td>7.0569</td>\n",
       "      <td>1009.2</td>\n",
       "      <td>95.249</td>\n",
       "      <td>3.4805</td>\n",
       "      <td>19.792</td>\n",
       "      <td>1059.6</td>\n",
       "      <td>549.99</td>\n",
       "      <td>114.72</td>\n",
       "      <td>10.606</td>\n",
       "      <td>3.1923</td>\n",
       "      <td>82.670</td>\n",
       "    </tr>\n",
       "    <tr>\n",
       "      <th>4</th>\n",
       "      <td>7.3978</td>\n",
       "      <td>1009.7</td>\n",
       "      <td>95.150</td>\n",
       "      <td>3.4976</td>\n",
       "      <td>19.765</td>\n",
       "      <td>1059.7</td>\n",
       "      <td>549.98</td>\n",
       "      <td>114.72</td>\n",
       "      <td>10.612</td>\n",
       "      <td>3.2484</td>\n",
       "      <td>82.311</td>\n",
       "    </tr>\n",
       "    <tr>\n",
       "      <th>5</th>\n",
       "      <td>7.6998</td>\n",
       "      <td>1010.7</td>\n",
       "      <td>92.708</td>\n",
       "      <td>3.5236</td>\n",
       "      <td>19.683</td>\n",
       "      <td>1059.8</td>\n",
       "      <td>549.97</td>\n",
       "      <td>114.72</td>\n",
       "      <td>10.626</td>\n",
       "      <td>3.4467</td>\n",
       "      <td>82.409</td>\n",
       "    </tr>\n",
       "    <tr>\n",
       "      <th>6</th>\n",
       "      <td>7.7901</td>\n",
       "      <td>1011.6</td>\n",
       "      <td>91.983</td>\n",
       "      <td>3.5298</td>\n",
       "      <td>19.659</td>\n",
       "      <td>1060.0</td>\n",
       "      <td>549.87</td>\n",
       "      <td>114.71</td>\n",
       "      <td>10.644</td>\n",
       "      <td>3.4874</td>\n",
       "      <td>82.440</td>\n",
       "    </tr>\n",
       "    <tr>\n",
       "      <th>7</th>\n",
       "      <td>7.7139</td>\n",
       "      <td>1012.7</td>\n",
       "      <td>91.348</td>\n",
       "      <td>3.5088</td>\n",
       "      <td>19.673</td>\n",
       "      <td>1059.8</td>\n",
       "      <td>549.92</td>\n",
       "      <td>114.71</td>\n",
       "      <td>10.656</td>\n",
       "      <td>3.6043</td>\n",
       "      <td>83.010</td>\n",
       "    </tr>\n",
       "    <tr>\n",
       "      <th>8</th>\n",
       "      <td>7.7975</td>\n",
       "      <td>1013.8</td>\n",
       "      <td>90.196</td>\n",
       "      <td>3.5141</td>\n",
       "      <td>19.634</td>\n",
       "      <td>1060.1</td>\n",
       "      <td>550.09</td>\n",
       "      <td>114.72</td>\n",
       "      <td>10.644</td>\n",
       "      <td>3.3943</td>\n",
       "      <td>82.284</td>\n",
       "    </tr>\n",
       "    <tr>\n",
       "      <th>9</th>\n",
       "      <td>8.0820</td>\n",
       "      <td>1015.0</td>\n",
       "      <td>88.597</td>\n",
       "      <td>4.0612</td>\n",
       "      <td>23.406</td>\n",
       "      <td>1083.0</td>\n",
       "      <td>550.21</td>\n",
       "      <td>131.70</td>\n",
       "      <td>11.679</td>\n",
       "      <td>1.9081</td>\n",
       "      <td>82.782</td>\n",
       "    </tr>\n",
       "  </tbody>\n",
       "</table>\n",
       "</div>"
      ],
      "text/plain": [
       "       AT      AP      AH    AFDP    GTEP     TIT     TAT     TEY     CDP  \\\n",
       "0  6.8594  1007.9  96.799  3.5000  19.663  1059.2  550.00  114.70  10.605   \n",
       "1  6.7850  1008.4  97.118  3.4998  19.728  1059.3  550.00  114.72  10.598   \n",
       "2  6.8977  1008.8  95.939  3.4824  19.779  1059.4  549.87  114.71  10.601   \n",
       "3  7.0569  1009.2  95.249  3.4805  19.792  1059.6  549.99  114.72  10.606   \n",
       "4  7.3978  1009.7  95.150  3.4976  19.765  1059.7  549.98  114.72  10.612   \n",
       "5  7.6998  1010.7  92.708  3.5236  19.683  1059.8  549.97  114.72  10.626   \n",
       "6  7.7901  1011.6  91.983  3.5298  19.659  1060.0  549.87  114.71  10.644   \n",
       "7  7.7139  1012.7  91.348  3.5088  19.673  1059.8  549.92  114.71  10.656   \n",
       "8  7.7975  1013.8  90.196  3.5141  19.634  1060.1  550.09  114.72  10.644   \n",
       "9  8.0820  1015.0  88.597  4.0612  23.406  1083.0  550.21  131.70  11.679   \n",
       "\n",
       "       CO     NOX  \n",
       "0  3.1547  82.722  \n",
       "1  3.2363  82.776  \n",
       "2  3.2012  82.468  \n",
       "3  3.1923  82.670  \n",
       "4  3.2484  82.311  \n",
       "5  3.4467  82.409  \n",
       "6  3.4874  82.440  \n",
       "7  3.6043  83.010  \n",
       "8  3.3943  82.284  \n",
       "9  1.9081  82.782  "
      ]
     },
     "execution_count": 4,
     "metadata": {},
     "output_type": "execute_result"
    }
   ],
   "source": [
    "dataset=pd.read_csv('gas_turbines.csv')\n",
    "dataset.head(10)"
   ]
  },
  {
   "cell_type": "code",
   "execution_count": 5,
   "metadata": {
    "ExecuteTime": {
     "end_time": "2021-07-29T18:46:52.136351Z",
     "start_time": "2021-07-29T18:46:52.122363Z"
    }
   },
   "outputs": [
    {
     "data": {
      "text/plain": [
       "(15039, 11)"
      ]
     },
     "execution_count": 5,
     "metadata": {},
     "output_type": "execute_result"
    }
   ],
   "source": [
    "dataset.shape"
   ]
  },
  {
   "cell_type": "code",
   "execution_count": 6,
   "metadata": {
    "ExecuteTime": {
     "end_time": "2021-07-29T18:46:52.152272Z",
     "start_time": "2021-07-29T18:46:52.139318Z"
    }
   },
   "outputs": [
    {
     "data": {
      "text/plain": [
       "AT      float64\n",
       "AP      float64\n",
       "AH      float64\n",
       "AFDP    float64\n",
       "GTEP    float64\n",
       "TIT     float64\n",
       "TAT     float64\n",
       "TEY     float64\n",
       "CDP     float64\n",
       "CO      float64\n",
       "NOX     float64\n",
       "dtype: object"
      ]
     },
     "execution_count": 6,
     "metadata": {},
     "output_type": "execute_result"
    }
   ],
   "source": [
    "dataset.dtypes"
   ]
  },
  {
   "cell_type": "code",
   "execution_count": 7,
   "metadata": {
    "ExecuteTime": {
     "end_time": "2021-07-29T18:46:52.168253Z",
     "start_time": "2021-07-29T18:46:52.155267Z"
    }
   },
   "outputs": [
    {
     "name": "stdout",
     "output_type": "stream",
     "text": [
      "<class 'pandas.core.frame.DataFrame'>\n",
      "RangeIndex: 15039 entries, 0 to 15038\n",
      "Data columns (total 11 columns):\n",
      " #   Column  Non-Null Count  Dtype  \n",
      "---  ------  --------------  -----  \n",
      " 0   AT      15039 non-null  float64\n",
      " 1   AP      15039 non-null  float64\n",
      " 2   AH      15039 non-null  float64\n",
      " 3   AFDP    15039 non-null  float64\n",
      " 4   GTEP    15039 non-null  float64\n",
      " 5   TIT     15039 non-null  float64\n",
      " 6   TAT     15039 non-null  float64\n",
      " 7   TEY     15039 non-null  float64\n",
      " 8   CDP     15039 non-null  float64\n",
      " 9   CO      15039 non-null  float64\n",
      " 10  NOX     15039 non-null  float64\n",
      "dtypes: float64(11)\n",
      "memory usage: 1.3 MB\n"
     ]
    }
   ],
   "source": [
    "dataset.info()"
   ]
  },
  {
   "cell_type": "code",
   "execution_count": 8,
   "metadata": {
    "ExecuteTime": {
     "end_time": "2021-07-29T18:46:52.232090Z",
     "start_time": "2021-07-29T18:46:52.173225Z"
    }
   },
   "outputs": [
    {
     "data": {
      "text/html": [
       "<div>\n",
       "<style scoped>\n",
       "    .dataframe tbody tr th:only-of-type {\n",
       "        vertical-align: middle;\n",
       "    }\n",
       "\n",
       "    .dataframe tbody tr th {\n",
       "        vertical-align: top;\n",
       "    }\n",
       "\n",
       "    .dataframe thead th {\n",
       "        text-align: right;\n",
       "    }\n",
       "</style>\n",
       "<table border=\"1\" class=\"dataframe\">\n",
       "  <thead>\n",
       "    <tr style=\"text-align: right;\">\n",
       "      <th></th>\n",
       "      <th>AT</th>\n",
       "      <th>AP</th>\n",
       "      <th>AH</th>\n",
       "      <th>AFDP</th>\n",
       "      <th>GTEP</th>\n",
       "      <th>TIT</th>\n",
       "      <th>TAT</th>\n",
       "      <th>TEY</th>\n",
       "      <th>CDP</th>\n",
       "      <th>CO</th>\n",
       "      <th>NOX</th>\n",
       "    </tr>\n",
       "  </thead>\n",
       "  <tbody>\n",
       "    <tr>\n",
       "      <th>count</th>\n",
       "      <td>15039.000000</td>\n",
       "      <td>15039.00000</td>\n",
       "      <td>15039.000000</td>\n",
       "      <td>15039.000000</td>\n",
       "      <td>15039.000000</td>\n",
       "      <td>15039.000000</td>\n",
       "      <td>15039.000000</td>\n",
       "      <td>15039.000000</td>\n",
       "      <td>15039.000000</td>\n",
       "      <td>15039.000000</td>\n",
       "      <td>15039.000000</td>\n",
       "    </tr>\n",
       "    <tr>\n",
       "      <th>mean</th>\n",
       "      <td>17.764381</td>\n",
       "      <td>1013.19924</td>\n",
       "      <td>79.124174</td>\n",
       "      <td>4.200294</td>\n",
       "      <td>25.419061</td>\n",
       "      <td>1083.798770</td>\n",
       "      <td>545.396183</td>\n",
       "      <td>134.188464</td>\n",
       "      <td>12.102353</td>\n",
       "      <td>1.972499</td>\n",
       "      <td>68.190934</td>\n",
       "    </tr>\n",
       "    <tr>\n",
       "      <th>std</th>\n",
       "      <td>7.574323</td>\n",
       "      <td>6.41076</td>\n",
       "      <td>13.793439</td>\n",
       "      <td>0.760197</td>\n",
       "      <td>4.173916</td>\n",
       "      <td>16.527806</td>\n",
       "      <td>7.866803</td>\n",
       "      <td>15.829717</td>\n",
       "      <td>1.103196</td>\n",
       "      <td>2.222206</td>\n",
       "      <td>10.470586</td>\n",
       "    </tr>\n",
       "    <tr>\n",
       "      <th>min</th>\n",
       "      <td>0.522300</td>\n",
       "      <td>985.85000</td>\n",
       "      <td>30.344000</td>\n",
       "      <td>2.087400</td>\n",
       "      <td>17.878000</td>\n",
       "      <td>1000.800000</td>\n",
       "      <td>512.450000</td>\n",
       "      <td>100.170000</td>\n",
       "      <td>9.904400</td>\n",
       "      <td>0.000388</td>\n",
       "      <td>27.765000</td>\n",
       "    </tr>\n",
       "    <tr>\n",
       "      <th>25%</th>\n",
       "      <td>11.408000</td>\n",
       "      <td>1008.90000</td>\n",
       "      <td>69.750000</td>\n",
       "      <td>3.723900</td>\n",
       "      <td>23.294000</td>\n",
       "      <td>1079.600000</td>\n",
       "      <td>542.170000</td>\n",
       "      <td>127.985000</td>\n",
       "      <td>11.622000</td>\n",
       "      <td>0.858055</td>\n",
       "      <td>61.303500</td>\n",
       "    </tr>\n",
       "    <tr>\n",
       "      <th>50%</th>\n",
       "      <td>18.186000</td>\n",
       "      <td>1012.80000</td>\n",
       "      <td>82.266000</td>\n",
       "      <td>4.186200</td>\n",
       "      <td>25.082000</td>\n",
       "      <td>1088.700000</td>\n",
       "      <td>549.890000</td>\n",
       "      <td>133.780000</td>\n",
       "      <td>12.025000</td>\n",
       "      <td>1.390200</td>\n",
       "      <td>66.601000</td>\n",
       "    </tr>\n",
       "    <tr>\n",
       "      <th>75%</th>\n",
       "      <td>23.862500</td>\n",
       "      <td>1016.90000</td>\n",
       "      <td>90.043500</td>\n",
       "      <td>4.550900</td>\n",
       "      <td>27.184000</td>\n",
       "      <td>1096.000000</td>\n",
       "      <td>550.060000</td>\n",
       "      <td>140.895000</td>\n",
       "      <td>12.578000</td>\n",
       "      <td>2.160400</td>\n",
       "      <td>73.935500</td>\n",
       "    </tr>\n",
       "    <tr>\n",
       "      <th>max</th>\n",
       "      <td>34.929000</td>\n",
       "      <td>1034.20000</td>\n",
       "      <td>100.200000</td>\n",
       "      <td>7.610600</td>\n",
       "      <td>37.402000</td>\n",
       "      <td>1100.800000</td>\n",
       "      <td>550.610000</td>\n",
       "      <td>174.610000</td>\n",
       "      <td>15.081000</td>\n",
       "      <td>44.103000</td>\n",
       "      <td>119.890000</td>\n",
       "    </tr>\n",
       "  </tbody>\n",
       "</table>\n",
       "</div>"
      ],
      "text/plain": [
       "                 AT           AP            AH          AFDP          GTEP  \\\n",
       "count  15039.000000  15039.00000  15039.000000  15039.000000  15039.000000   \n",
       "mean      17.764381   1013.19924     79.124174      4.200294     25.419061   \n",
       "std        7.574323      6.41076     13.793439      0.760197      4.173916   \n",
       "min        0.522300    985.85000     30.344000      2.087400     17.878000   \n",
       "25%       11.408000   1008.90000     69.750000      3.723900     23.294000   \n",
       "50%       18.186000   1012.80000     82.266000      4.186200     25.082000   \n",
       "75%       23.862500   1016.90000     90.043500      4.550900     27.184000   \n",
       "max       34.929000   1034.20000    100.200000      7.610600     37.402000   \n",
       "\n",
       "                TIT           TAT           TEY           CDP            CO  \\\n",
       "count  15039.000000  15039.000000  15039.000000  15039.000000  15039.000000   \n",
       "mean    1083.798770    545.396183    134.188464     12.102353      1.972499   \n",
       "std       16.527806      7.866803     15.829717      1.103196      2.222206   \n",
       "min     1000.800000    512.450000    100.170000      9.904400      0.000388   \n",
       "25%     1079.600000    542.170000    127.985000     11.622000      0.858055   \n",
       "50%     1088.700000    549.890000    133.780000     12.025000      1.390200   \n",
       "75%     1096.000000    550.060000    140.895000     12.578000      2.160400   \n",
       "max     1100.800000    550.610000    174.610000     15.081000     44.103000   \n",
       "\n",
       "                NOX  \n",
       "count  15039.000000  \n",
       "mean      68.190934  \n",
       "std       10.470586  \n",
       "min       27.765000  \n",
       "25%       61.303500  \n",
       "50%       66.601000  \n",
       "75%       73.935500  \n",
       "max      119.890000  "
      ]
     },
     "execution_count": 8,
     "metadata": {},
     "output_type": "execute_result"
    }
   ],
   "source": [
    "dataset.describe()"
   ]
  },
  {
   "cell_type": "code",
   "execution_count": 9,
   "metadata": {
    "ExecuteTime": {
     "end_time": "2021-07-29T18:46:52.261979Z",
     "start_time": "2021-07-29T18:46:52.235051Z"
    }
   },
   "outputs": [
    {
     "data": {
      "text/html": [
       "<div>\n",
       "<style scoped>\n",
       "    .dataframe tbody tr th:only-of-type {\n",
       "        vertical-align: middle;\n",
       "    }\n",
       "\n",
       "    .dataframe tbody tr th {\n",
       "        vertical-align: top;\n",
       "    }\n",
       "\n",
       "    .dataframe thead th {\n",
       "        text-align: right;\n",
       "    }\n",
       "</style>\n",
       "<table border=\"1\" class=\"dataframe\">\n",
       "  <thead>\n",
       "    <tr style=\"text-align: right;\">\n",
       "      <th></th>\n",
       "      <th>AT</th>\n",
       "      <th>AP</th>\n",
       "      <th>AH</th>\n",
       "      <th>AFDP</th>\n",
       "      <th>GTEP</th>\n",
       "      <th>TIT</th>\n",
       "      <th>TAT</th>\n",
       "      <th>TEY</th>\n",
       "      <th>CDP</th>\n",
       "      <th>CO</th>\n",
       "      <th>NOX</th>\n",
       "    </tr>\n",
       "  </thead>\n",
       "  <tbody>\n",
       "    <tr>\n",
       "      <th>0</th>\n",
       "      <td>6.8594</td>\n",
       "      <td>1007.9</td>\n",
       "      <td>96.799</td>\n",
       "      <td>3.5000</td>\n",
       "      <td>19.663</td>\n",
       "      <td>1059.2</td>\n",
       "      <td>550.00</td>\n",
       "      <td>114.70</td>\n",
       "      <td>10.605</td>\n",
       "      <td>3.1547</td>\n",
       "      <td>82.722</td>\n",
       "    </tr>\n",
       "    <tr>\n",
       "      <th>1</th>\n",
       "      <td>6.7850</td>\n",
       "      <td>1008.4</td>\n",
       "      <td>97.118</td>\n",
       "      <td>3.4998</td>\n",
       "      <td>19.728</td>\n",
       "      <td>1059.3</td>\n",
       "      <td>550.00</td>\n",
       "      <td>114.72</td>\n",
       "      <td>10.598</td>\n",
       "      <td>3.2363</td>\n",
       "      <td>82.776</td>\n",
       "    </tr>\n",
       "    <tr>\n",
       "      <th>2</th>\n",
       "      <td>6.8977</td>\n",
       "      <td>1008.8</td>\n",
       "      <td>95.939</td>\n",
       "      <td>3.4824</td>\n",
       "      <td>19.779</td>\n",
       "      <td>1059.4</td>\n",
       "      <td>549.87</td>\n",
       "      <td>114.71</td>\n",
       "      <td>10.601</td>\n",
       "      <td>3.2012</td>\n",
       "      <td>82.468</td>\n",
       "    </tr>\n",
       "    <tr>\n",
       "      <th>3</th>\n",
       "      <td>7.0569</td>\n",
       "      <td>1009.2</td>\n",
       "      <td>95.249</td>\n",
       "      <td>3.4805</td>\n",
       "      <td>19.792</td>\n",
       "      <td>1059.6</td>\n",
       "      <td>549.99</td>\n",
       "      <td>114.72</td>\n",
       "      <td>10.606</td>\n",
       "      <td>3.1923</td>\n",
       "      <td>82.670</td>\n",
       "    </tr>\n",
       "    <tr>\n",
       "      <th>4</th>\n",
       "      <td>7.3978</td>\n",
       "      <td>1009.7</td>\n",
       "      <td>95.150</td>\n",
       "      <td>3.4976</td>\n",
       "      <td>19.765</td>\n",
       "      <td>1059.7</td>\n",
       "      <td>549.98</td>\n",
       "      <td>114.72</td>\n",
       "      <td>10.612</td>\n",
       "      <td>3.2484</td>\n",
       "      <td>82.311</td>\n",
       "    </tr>\n",
       "    <tr>\n",
       "      <th>5</th>\n",
       "      <td>7.6998</td>\n",
       "      <td>1010.7</td>\n",
       "      <td>92.708</td>\n",
       "      <td>3.5236</td>\n",
       "      <td>19.683</td>\n",
       "      <td>1059.8</td>\n",
       "      <td>549.97</td>\n",
       "      <td>114.72</td>\n",
       "      <td>10.626</td>\n",
       "      <td>3.4467</td>\n",
       "      <td>82.409</td>\n",
       "    </tr>\n",
       "    <tr>\n",
       "      <th>6</th>\n",
       "      <td>7.7901</td>\n",
       "      <td>1011.6</td>\n",
       "      <td>91.983</td>\n",
       "      <td>3.5298</td>\n",
       "      <td>19.659</td>\n",
       "      <td>1060.0</td>\n",
       "      <td>549.87</td>\n",
       "      <td>114.71</td>\n",
       "      <td>10.644</td>\n",
       "      <td>3.4874</td>\n",
       "      <td>82.440</td>\n",
       "    </tr>\n",
       "    <tr>\n",
       "      <th>7</th>\n",
       "      <td>7.7139</td>\n",
       "      <td>1012.7</td>\n",
       "      <td>91.348</td>\n",
       "      <td>3.5088</td>\n",
       "      <td>19.673</td>\n",
       "      <td>1059.8</td>\n",
       "      <td>549.92</td>\n",
       "      <td>114.71</td>\n",
       "      <td>10.656</td>\n",
       "      <td>3.6043</td>\n",
       "      <td>83.010</td>\n",
       "    </tr>\n",
       "    <tr>\n",
       "      <th>8</th>\n",
       "      <td>7.7975</td>\n",
       "      <td>1013.8</td>\n",
       "      <td>90.196</td>\n",
       "      <td>3.5141</td>\n",
       "      <td>19.634</td>\n",
       "      <td>1060.1</td>\n",
       "      <td>550.09</td>\n",
       "      <td>114.72</td>\n",
       "      <td>10.644</td>\n",
       "      <td>3.3943</td>\n",
       "      <td>82.284</td>\n",
       "    </tr>\n",
       "    <tr>\n",
       "      <th>9</th>\n",
       "      <td>8.0820</td>\n",
       "      <td>1015.0</td>\n",
       "      <td>88.597</td>\n",
       "      <td>4.0612</td>\n",
       "      <td>23.406</td>\n",
       "      <td>1083.0</td>\n",
       "      <td>550.21</td>\n",
       "      <td>131.70</td>\n",
       "      <td>11.679</td>\n",
       "      <td>1.9081</td>\n",
       "      <td>82.782</td>\n",
       "    </tr>\n",
       "  </tbody>\n",
       "</table>\n",
       "</div>"
      ],
      "text/plain": [
       "       AT      AP      AH    AFDP    GTEP     TIT     TAT     TEY     CDP  \\\n",
       "0  6.8594  1007.9  96.799  3.5000  19.663  1059.2  550.00  114.70  10.605   \n",
       "1  6.7850  1008.4  97.118  3.4998  19.728  1059.3  550.00  114.72  10.598   \n",
       "2  6.8977  1008.8  95.939  3.4824  19.779  1059.4  549.87  114.71  10.601   \n",
       "3  7.0569  1009.2  95.249  3.4805  19.792  1059.6  549.99  114.72  10.606   \n",
       "4  7.3978  1009.7  95.150  3.4976  19.765  1059.7  549.98  114.72  10.612   \n",
       "5  7.6998  1010.7  92.708  3.5236  19.683  1059.8  549.97  114.72  10.626   \n",
       "6  7.7901  1011.6  91.983  3.5298  19.659  1060.0  549.87  114.71  10.644   \n",
       "7  7.7139  1012.7  91.348  3.5088  19.673  1059.8  549.92  114.71  10.656   \n",
       "8  7.7975  1013.8  90.196  3.5141  19.634  1060.1  550.09  114.72  10.644   \n",
       "9  8.0820  1015.0  88.597  4.0612  23.406  1083.0  550.21  131.70  11.679   \n",
       "\n",
       "       CO     NOX  \n",
       "0  3.1547  82.722  \n",
       "1  3.2363  82.776  \n",
       "2  3.2012  82.468  \n",
       "3  3.1923  82.670  \n",
       "4  3.2484  82.311  \n",
       "5  3.4467  82.409  \n",
       "6  3.4874  82.440  \n",
       "7  3.6043  83.010  \n",
       "8  3.3943  82.284  \n",
       "9  1.9081  82.782  "
      ]
     },
     "execution_count": 9,
     "metadata": {},
     "output_type": "execute_result"
    }
   ],
   "source": [
    "dataset[:10]"
   ]
  },
  {
   "cell_type": "code",
   "execution_count": 10,
   "metadata": {
    "ExecuteTime": {
     "end_time": "2021-07-29T18:46:53.115737Z",
     "start_time": "2021-07-29T18:46:52.264972Z"
    }
   },
   "outputs": [],
   "source": [
    "import seaborn as sns\n",
    "import matplotlib as plt"
   ]
  },
  {
   "cell_type": "code",
   "execution_count": 11,
   "metadata": {
    "ExecuteTime": {
     "end_time": "2021-07-29T18:46:53.702159Z",
     "start_time": "2021-07-29T18:46:53.118691Z"
    }
   },
   "outputs": [
    {
     "data": {
      "text/plain": [
       "<matplotlib.axes._subplots.AxesSubplot at 0x25fe57388b0>"
      ]
     },
     "execution_count": 11,
     "metadata": {},
     "output_type": "execute_result"
    },
    {
     "data": {
      "image/png": "[encoded data removed]",
      "text/plain": [
       "<Figure size 432x288 with 2 Axes>"
      ]
     },
     "metadata": {
      "needs_background": "light"
     },
     "output_type": "display_data"
    }
   ],
   "source": [
    "sns.heatmap(dataset.isnull())"
   ]
  },
  {
   "cell_type": "code",
   "execution_count": 12,
   "metadata": {
    "ExecuteTime": {
     "end_time": "2021-07-29T18:46:57.687584Z",
     "start_time": "2021-07-29T18:46:53.704123Z"
    },
    "scrolled": false
   },
   "outputs": [
    {
     "name": "stdout",
     "output_type": "stream",
     "text": [
      "Requirement already satisfied: seaborn in c:\\users\\acer\\anaconda3\\lib\\site-packages (0.11.1)\n",
      "Requirement already satisfied: matplotlib>=2.2 in c:\\users\\acer\\anaconda3\\lib\\site-packages (from seaborn) (3.2.2)\n",
      "Requirement already satisfied: numpy>=1.15 in c:\\users\\acer\\anaconda3\\lib\\site-packages (from seaborn) (1.19.5)\n",
      "Requirement already satisfied: scipy>=1.0 in c:\\users\\acer\\anaconda3\\lib\\site-packages (from seaborn) (1.5.0)\n",
      "Requirement already satisfied: pandas>=0.23 in c:\\users\\acer\\anaconda3\\lib\\site-packages (from seaborn) (1.0.5)\n",
      "Requirement already satisfied: python-dateutil>=2.1 in c:\\users\\acer\\anaconda3\\lib\\site-packages (from matplotlib>=2.2->seaborn) (2.8.1)\n",
      "Requirement already satisfied: cycler>=0.10 in c:\\users\\acer\\anaconda3\\lib\\site-packages (from matplotlib>=2.2->seaborn) (0.10.0)\n",
      "Requirement already satisfied: pyparsing!=2.0.4,!=2.1.2,!=2.1.6,>=2.0.1 in c:\\users\\acer\\anaconda3\\lib\\site-packages (from matplotlib>=2.2->seaborn) (2.4.7)\n",
      "Requirement already satisfied: kiwisolver>=1.0.1 in c:\\users\\acer\\anaconda3\\lib\\site-packages (from matplotlib>=2.2->seaborn) (1.2.0)\n",
      "Requirement already satisfied: pytz>=2017.2 in c:\\users\\acer\\anaconda3\\lib\\site-packages (from pandas>=0.23->seaborn) (2020.1)\n",
      "Requirement already satisfied: six>=1.5 in c:\\users\\acer\\anaconda3\\lib\\site-packages (from python-dateutil>=2.1->matplotlib>=2.2->seaborn) (1.15.0)\n",
      "Note: you may need to restart the kernel to use updated packages.\n"
     ]
    }
   ],
   "source": [
    "pip install seaborn"
   ]
  },
  {
   "cell_type": "code",
   "execution_count": 13,
   "metadata": {
    "ExecuteTime": {
     "end_time": "2021-07-29T18:47:02.010061Z",
     "start_time": "2021-07-29T18:46:57.689589Z"
    }
   },
   "outputs": [
    {
     "name": "stdout",
     "output_type": "stream",
     "text": [
      "Requirement already up-to-date: seaborn in c:\\users\\acer\\anaconda3\\lib\\site-packages (0.11.1)\n",
      "Requirement already satisfied, skipping upgrade: scipy>=1.0 in c:\\users\\acer\\anaconda3\\lib\\site-packages (from seaborn) (1.5.0)\n",
      "Requirement already satisfied, skipping upgrade: numpy>=1.15 in c:\\users\\acer\\anaconda3\\lib\\site-packages (from seaborn) (1.19.5)\n",
      "Requirement already satisfied, skipping upgrade: pandas>=0.23 in c:\\users\\acer\\anaconda3\\lib\\site-packages (from seaborn) (1.0.5)\n",
      "Requirement already satisfied, skipping upgrade: matplotlib>=2.2 in c:\\users\\acer\\anaconda3\\lib\\site-packages (from seaborn) (3.2.2)\n",
      "Requirement already satisfied, skipping upgrade: python-dateutil>=2.6.1 in c:\\users\\acer\\anaconda3\\lib\\site-packages (from pandas>=0.23->seaborn) (2.8.1)\n",
      "Requirement already satisfied, skipping upgrade: pytz>=2017.2 in c:\\users\\acer\\anaconda3\\lib\\site-packages (from pandas>=0.23->seaborn) (2020.1)\n",
      "Requirement already satisfied, skipping upgrade: kiwisolver>=1.0.1 in c:\\users\\acer\\anaconda3\\lib\\site-packages (from matplotlib>=2.2->seaborn) (1.2.0)\n",
      "Requirement already satisfied, skipping upgrade: pyparsing!=2.0.4,!=2.1.2,!=2.1.6,>=2.0.1 in c:\\users\\acer\\anaconda3\\lib\\site-packages (from matplotlib>=2.2->seaborn) (2.4.7)\n",
      "Requirement already satisfied, skipping upgrade: cycler>=0.10 in c:\\users\\acer\\anaconda3\\lib\\site-packages (from matplotlib>=2.2->seaborn) (0.10.0)\n",
      "Requirement already satisfied, skipping upgrade: six>=1.5 in c:\\users\\acer\\anaconda3\\lib\\site-packages (from python-dateutil>=2.6.1->pandas>=0.23->seaborn) (1.15.0)\n",
      "Note: you may need to restart the kernel to use updated packages.\n"
     ]
    }
   ],
   "source": [
    "pip install -U seaborn"
   ]
  },
  {
   "cell_type": "code",
   "execution_count": 15,
   "metadata": {
    "ExecuteTime": {
     "end_time": "2021-07-29T18:48:45.169217Z",
     "start_time": "2021-07-29T18:48:44.800171Z"
    }
   },
   "outputs": [
    {
     "data": {
      "text/plain": [
       "<matplotlib.axes._subplots.AxesSubplot at 0x25fe86efd90>"
      ]
     },
     "execution_count": 15,
     "metadata": {},
     "output_type": "execute_result"
    },
    {
     "data": {
      "image/png": "[encoded data removed]",
      "text/plain": [
       "<Figure size 432x288 with 1 Axes>"
      ]
     },
     "metadata": {
      "needs_background": "light"
     },
     "output_type": "display_data"
    }
   ],
   "source": [
    "sns.histplot(x='TEY',data=dataset)"
   ]
  },
  {
   "cell_type": "code",
   "execution_count": 16,
   "metadata": {
    "ExecuteTime": {
     "end_time": "2021-07-29T18:51:17.598010Z",
     "start_time": "2021-07-29T18:51:17.588028Z"
    }
   },
   "outputs": [],
   "source": [
    " X = dataset.iloc[:,:11]"
   ]
  },
  {
   "cell_type": "code",
   "execution_count": 17,
   "metadata": {
    "ExecuteTime": {
     "end_time": "2021-07-29T18:51:30.857844Z",
     "start_time": "2021-07-29T18:51:30.847837Z"
    }
   },
   "outputs": [],
   "source": [
    "Y = dataset.iloc[:,-1]"
   ]
  },
  {
   "cell_type": "code",
   "execution_count": 19,
   "metadata": {
    "ExecuteTime": {
     "end_time": "2021-07-29T18:51:50.476517Z",
     "start_time": "2021-07-29T18:51:50.433648Z"
    }
   },
   "outputs": [
    {
     "data": {
      "text/html": [
       "<div>\n",
       "<style scoped>\n",
       "    .dataframe tbody tr th:only-of-type {\n",
       "        vertical-align: middle;\n",
       "    }\n",
       "\n",
       "    .dataframe tbody tr th {\n",
       "        vertical-align: top;\n",
       "    }\n",
       "\n",
       "    .dataframe thead th {\n",
       "        text-align: right;\n",
       "    }\n",
       "</style>\n",
       "<table border=\"1\" class=\"dataframe\">\n",
       "  <thead>\n",
       "    <tr style=\"text-align: right;\">\n",
       "      <th></th>\n",
       "      <th>AT</th>\n",
       "      <th>AP</th>\n",
       "      <th>AH</th>\n",
       "      <th>AFDP</th>\n",
       "      <th>GTEP</th>\n",
       "      <th>TIT</th>\n",
       "      <th>TAT</th>\n",
       "      <th>TEY</th>\n",
       "      <th>CDP</th>\n",
       "      <th>CO</th>\n",
       "      <th>NOX</th>\n",
       "    </tr>\n",
       "  </thead>\n",
       "  <tbody>\n",
       "    <tr>\n",
       "      <th>0</th>\n",
       "      <td>6.8594</td>\n",
       "      <td>1007.9</td>\n",
       "      <td>96.799</td>\n",
       "      <td>3.5000</td>\n",
       "      <td>19.663</td>\n",
       "      <td>1059.2</td>\n",
       "      <td>550.00</td>\n",
       "      <td>114.70</td>\n",
       "      <td>10.605</td>\n",
       "      <td>3.1547</td>\n",
       "      <td>82.722</td>\n",
       "    </tr>\n",
       "    <tr>\n",
       "      <th>1</th>\n",
       "      <td>6.7850</td>\n",
       "      <td>1008.4</td>\n",
       "      <td>97.118</td>\n",
       "      <td>3.4998</td>\n",
       "      <td>19.728</td>\n",
       "      <td>1059.3</td>\n",
       "      <td>550.00</td>\n",
       "      <td>114.72</td>\n",
       "      <td>10.598</td>\n",
       "      <td>3.2363</td>\n",
       "      <td>82.776</td>\n",
       "    </tr>\n",
       "    <tr>\n",
       "      <th>2</th>\n",
       "      <td>6.8977</td>\n",
       "      <td>1008.8</td>\n",
       "      <td>95.939</td>\n",
       "      <td>3.4824</td>\n",
       "      <td>19.779</td>\n",
       "      <td>1059.4</td>\n",
       "      <td>549.87</td>\n",
       "      <td>114.71</td>\n",
       "      <td>10.601</td>\n",
       "      <td>3.2012</td>\n",
       "      <td>82.468</td>\n",
       "    </tr>\n",
       "    <tr>\n",
       "      <th>3</th>\n",
       "      <td>7.0569</td>\n",
       "      <td>1009.2</td>\n",
       "      <td>95.249</td>\n",
       "      <td>3.4805</td>\n",
       "      <td>19.792</td>\n",
       "      <td>1059.6</td>\n",
       "      <td>549.99</td>\n",
       "      <td>114.72</td>\n",
       "      <td>10.606</td>\n",
       "      <td>3.1923</td>\n",
       "      <td>82.670</td>\n",
       "    </tr>\n",
       "    <tr>\n",
       "      <th>4</th>\n",
       "      <td>7.3978</td>\n",
       "      <td>1009.7</td>\n",
       "      <td>95.150</td>\n",
       "      <td>3.4976</td>\n",
       "      <td>19.765</td>\n",
       "      <td>1059.7</td>\n",
       "      <td>549.98</td>\n",
       "      <td>114.72</td>\n",
       "      <td>10.612</td>\n",
       "      <td>3.2484</td>\n",
       "      <td>82.311</td>\n",
       "    </tr>\n",
       "    <tr>\n",
       "      <th>...</th>\n",
       "      <td>...</td>\n",
       "      <td>...</td>\n",
       "      <td>...</td>\n",
       "      <td>...</td>\n",
       "      <td>...</td>\n",
       "      <td>...</td>\n",
       "      <td>...</td>\n",
       "      <td>...</td>\n",
       "      <td>...</td>\n",
       "      <td>...</td>\n",
       "      <td>...</td>\n",
       "    </tr>\n",
       "    <tr>\n",
       "      <th>15034</th>\n",
       "      <td>9.0301</td>\n",
       "      <td>1005.6</td>\n",
       "      <td>98.460</td>\n",
       "      <td>3.5421</td>\n",
       "      <td>19.164</td>\n",
       "      <td>1049.7</td>\n",
       "      <td>546.21</td>\n",
       "      <td>111.61</td>\n",
       "      <td>10.400</td>\n",
       "      <td>4.5186</td>\n",
       "      <td>79.559</td>\n",
       "    </tr>\n",
       "    <tr>\n",
       "      <th>15035</th>\n",
       "      <td>7.8879</td>\n",
       "      <td>1005.9</td>\n",
       "      <td>99.093</td>\n",
       "      <td>3.5059</td>\n",
       "      <td>19.414</td>\n",
       "      <td>1046.3</td>\n",
       "      <td>543.22</td>\n",
       "      <td>111.78</td>\n",
       "      <td>10.433</td>\n",
       "      <td>4.8470</td>\n",
       "      <td>79.917</td>\n",
       "    </tr>\n",
       "    <tr>\n",
       "      <th>15036</th>\n",
       "      <td>7.2647</td>\n",
       "      <td>1006.3</td>\n",
       "      <td>99.496</td>\n",
       "      <td>3.4770</td>\n",
       "      <td>19.530</td>\n",
       "      <td>1037.7</td>\n",
       "      <td>537.32</td>\n",
       "      <td>110.19</td>\n",
       "      <td>10.483</td>\n",
       "      <td>7.9632</td>\n",
       "      <td>90.912</td>\n",
       "    </tr>\n",
       "    <tr>\n",
       "      <th>15037</th>\n",
       "      <td>7.0060</td>\n",
       "      <td>1006.8</td>\n",
       "      <td>99.008</td>\n",
       "      <td>3.4486</td>\n",
       "      <td>19.377</td>\n",
       "      <td>1043.2</td>\n",
       "      <td>541.24</td>\n",
       "      <td>110.74</td>\n",
       "      <td>10.533</td>\n",
       "      <td>6.2494</td>\n",
       "      <td>93.227</td>\n",
       "    </tr>\n",
       "    <tr>\n",
       "      <th>15038</th>\n",
       "      <td>6.9279</td>\n",
       "      <td>1007.2</td>\n",
       "      <td>97.533</td>\n",
       "      <td>3.4275</td>\n",
       "      <td>19.306</td>\n",
       "      <td>1049.9</td>\n",
       "      <td>545.85</td>\n",
       "      <td>111.58</td>\n",
       "      <td>10.583</td>\n",
       "      <td>4.9816</td>\n",
       "      <td>92.498</td>\n",
       "    </tr>\n",
       "  </tbody>\n",
       "</table>\n",
       "<p>15039 rows × 11 columns</p>\n",
       "</div>"
      ],
      "text/plain": [
       "           AT      AP      AH    AFDP    GTEP     TIT     TAT     TEY     CDP  \\\n",
       "0      6.8594  1007.9  96.799  3.5000  19.663  1059.2  550.00  114.70  10.605   \n",
       "1      6.7850  1008.4  97.118  3.4998  19.728  1059.3  550.00  114.72  10.598   \n",
       "2      6.8977  1008.8  95.939  3.4824  19.779  1059.4  549.87  114.71  10.601   \n",
       "3      7.0569  1009.2  95.249  3.4805  19.792  1059.6  549.99  114.72  10.606   \n",
       "4      7.3978  1009.7  95.150  3.4976  19.765  1059.7  549.98  114.72  10.612   \n",
       "...       ...     ...     ...     ...     ...     ...     ...     ...     ...   \n",
       "15034  9.0301  1005.6  98.460  3.5421  19.164  1049.7  546.21  111.61  10.400   \n",
       "15035  7.8879  1005.9  99.093  3.5059  19.414  1046.3  543.22  111.78  10.433   \n",
       "15036  7.2647  1006.3  99.496  3.4770  19.530  1037.7  537.32  110.19  10.483   \n",
       "15037  7.0060  1006.8  99.008  3.4486  19.377  1043.2  541.24  110.74  10.533   \n",
       "15038  6.9279  1007.2  97.533  3.4275  19.306  1049.9  545.85  111.58  10.583   \n",
       "\n",
       "           CO     NOX  \n",
       "0      3.1547  82.722  \n",
       "1      3.2363  82.776  \n",
       "2      3.2012  82.468  \n",
       "3      3.1923  82.670  \n",
       "4      3.2484  82.311  \n",
       "...       ...     ...  \n",
       "15034  4.5186  79.559  \n",
       "15035  4.8470  79.917  \n",
       "15036  7.9632  90.912  \n",
       "15037  6.2494  93.227  \n",
       "15038  4.9816  92.498  \n",
       "\n",
       "[15039 rows x 11 columns]"
      ]
     },
     "execution_count": 19,
     "metadata": {},
     "output_type": "execute_result"
    }
   ],
   "source": [
    "X"
   ]
  },
  {
   "cell_type": "code",
   "execution_count": 21,
   "metadata": {
    "ExecuteTime": {
     "end_time": "2021-07-29T18:53:25.840216Z",
     "start_time": "2021-07-29T18:53:25.832237Z"
    }
   },
   "outputs": [
    {
     "data": {
      "text/plain": [
       "0        82.722\n",
       "1        82.776\n",
       "2        82.468\n",
       "3        82.670\n",
       "4        82.311\n",
       "          ...  \n",
       "15034    79.559\n",
       "15035    79.917\n",
       "15036    90.912\n",
       "15037    93.227\n",
       "15038    92.498\n",
       "Name: NOX, Length: 15039, dtype: float64"
      ]
     },
     "execution_count": 21,
     "metadata": {},
     "output_type": "execute_result"
    }
   ],
   "source": [
    "Y"
   ]
  },
  {
   "cell_type": "code",
   "execution_count": 22,
   "metadata": {
    "ExecuteTime": {
     "end_time": "2021-07-29T18:53:54.397089Z",
     "start_time": "2021-07-29T18:53:53.112851Z"
    }
   },
   "outputs": [],
   "source": [
    "## Build an ANN model\n",
    "model = Sequential()\n",
    "model.add(layers.Dense(50, input_dim=11,  activation='relu'))\n",
    "model.add(layers.Dense(11,  activation='relu'))\n",
    "model.add(layers.Dense(1, activation='sigmoid'))"
   ]
  },
  {
   "cell_type": "code",
   "execution_count": 23,
   "metadata": {
    "ExecuteTime": {
     "end_time": "2021-07-29T18:54:11.610539Z",
     "start_time": "2021-07-29T18:54:11.584589Z"
    }
   },
   "outputs": [],
   "source": [
    "# Compile model\n",
    "model.compile(loss='binary_crossentropy', optimizer='adam', metrics=['acc'])"
   ]
  },
  {
   "cell_type": "code",
   "execution_count": 24,
   "metadata": {
    "ExecuteTime": {
     "end_time": "2021-07-29T18:57:48.322254Z",
     "start_time": "2021-07-29T18:54:32.381017Z"
    }
   },
   "outputs": [
    {
     "name": "stdout",
     "output_type": "stream",
     "text": [
      "Epoch 1/100\n",
      "1008/1008 [==============================] - 3s 2ms/step - loss: 47.8558 - acc: 0.0000e+00 - val_loss: -64.3193 - val_acc: 0.0000e+00\n",
      "Epoch 2/100\n",
      "1008/1008 [==============================] - 2s 2ms/step - loss: -103.3421 - acc: 0.0000e+00 - val_loss: -129.0768 - val_acc: 0.0000e+00\n",
      "Epoch 3/100\n",
      "1008/1008 [==============================] - 2s 2ms/step - loss: -172.4871 - acc: 0.0000e+00 - val_loss: -193.7435 - val_acc: 0.0000e+00\n",
      "Epoch 4/100\n",
      "1008/1008 [==============================] - 2s 2ms/step - loss: -241.5882 - acc: 0.0000e+00 - val_loss: -258.3887 - val_acc: 0.0000e+00\n",
      "Epoch 5/100\n",
      "1008/1008 [==============================] - 2s 2ms/step - loss: -310.7057 - acc: 0.0000e+00 - val_loss: -323.0630 - val_acc: 0.0000e+00\n",
      "Epoch 6/100\n",
      "1008/1008 [==============================] - 2s 2ms/step - loss: -379.8081 - acc: 0.0000e+00 - val_loss: -387.7050 - val_acc: 0.0000e+00\n",
      "Epoch 7/100\n",
      "1008/1008 [==============================] - 2s 2ms/step - loss: -448.9237 - acc: 0.0000e+00 - val_loss: -452.3790 - val_acc: 0.0000e+00\n",
      "Epoch 8/100\n",
      "1008/1008 [==============================] - 2s 2ms/step - loss: -518.0415 - acc: 0.0000e+00 - val_loss: -517.0393 - val_acc: 0.0000e+00\n",
      "Epoch 9/100\n",
      "1008/1008 [==============================] - 2s 2ms/step - loss: -587.1645 - acc: 0.0000e+00 - val_loss: -581.7163 - val_acc: 0.0000e+00\n",
      "Epoch 10/100\n",
      "1008/1008 [==============================] - 2s 2ms/step - loss: -656.2913 - acc: 0.0000e+00 - val_loss: -646.3992 - val_acc: 0.0000e+00\n",
      "Epoch 11/100\n",
      "1008/1008 [==============================] - 2s 2ms/step - loss: -725.4034 - acc: 0.0000e+00 - val_loss: -711.0385 - val_acc: 0.0000e+00\n",
      "Epoch 12/100\n",
      "1008/1008 [==============================] - 2s 2ms/step - loss: -794.5245 - acc: 0.0000e+00 - val_loss: -775.7126 - val_acc: 0.0000e+00\n",
      "Epoch 13/100\n",
      "1008/1008 [==============================] - 2s 2ms/step - loss: -863.6839 - acc: 0.0000e+00 - val_loss: -840.4293 - val_acc: 0.0000e+00\n",
      "Epoch 14/100\n",
      "1008/1008 [==============================] - 2s 2ms/step - loss: -932.8046 - acc: 0.0000e+00 - val_loss: -905.0751 - val_acc: 0.0000e+00\n",
      "Epoch 15/100\n",
      "1008/1008 [==============================] - 2s 2ms/step - loss: -1001.9139 - acc: 0.0000e+00 - val_loss: -969.7407 - val_acc: 0.0000e+00\n",
      "Epoch 16/100\n",
      "1008/1008 [==============================] - 2s 2ms/step - loss: -1071.0427 - acc: 0.0000e+00 - val_loss: -1034.4254 - val_acc: 0.0000e+00\n",
      "Epoch 17/100\n",
      "1008/1008 [==============================] - 2s 2ms/step - loss: -1140.1597 - acc: 0.0000e+00 - val_loss: -1099.0802 - val_acc: 0.0000e+00\n",
      "Epoch 18/100\n",
      "1008/1008 [==============================] - 2s 2ms/step - loss: -1209.3107 - acc: 0.0000e+00 - val_loss: -1163.7836 - val_acc: 0.0000e+00\n",
      "Epoch 19/100\n",
      "1008/1008 [==============================] - 3s 3ms/step - loss: -1278.4395 - acc: 0.0000e+00 - val_loss: -1228.4485 - val_acc: 0.0000e+00\n",
      "Epoch 20/100\n",
      "1008/1008 [==============================] - 2s 2ms/step - loss: -1347.5581 - acc: 0.0000e+00 - val_loss: -1293.1185 - val_acc: 0.0000e+00\n",
      "Epoch 21/100\n",
      "1008/1008 [==============================] - 3s 3ms/step - loss: -1416.7070 - acc: 0.0000e+00 - val_loss: -1357.8241 - val_acc: 0.0000e+00\n",
      "Epoch 22/100\n",
      "1008/1008 [==============================] - 2s 2ms/step - loss: -1485.8395 - acc: 0.0000e+00 - val_loss: -1422.4858 - val_acc: 0.0000e+00\n",
      "Epoch 23/100\n",
      "1008/1008 [==============================] - 2s 2ms/step - loss: -1554.9462 - acc: 0.0000e+00 - val_loss: -1487.1320 - val_acc: 0.0000e+00\n",
      "Epoch 24/100\n",
      "1008/1008 [==============================] - 2s 2ms/step - loss: -1624.0643 - acc: 0.0000e+00 - val_loss: -1551.7963 - val_acc: 0.0000e+00\n",
      "Epoch 25/100\n",
      "1008/1008 [==============================] - 2s 2ms/step - loss: -1693.1915 - acc: 0.0000e+00 - val_loss: -1616.4957 - val_acc: 0.0000e+00\n",
      "Epoch 26/100\n",
      "1008/1008 [==============================] - 2s 2ms/step - loss: -1762.3303 - acc: 0.0000e+00 - val_loss: -1681.1635 - val_acc: 0.0000e+00\n",
      "Epoch 27/100\n",
      "1008/1008 [==============================] - 2s 2ms/step - loss: -1831.4731 - acc: 0.0000e+00 - val_loss: -1745.8521 - val_acc: 0.0000e+00\n",
      "Epoch 28/100\n",
      "1008/1008 [==============================] - 2s 2ms/step - loss: -1900.5999 - acc: 0.0000e+00 - val_loss: -1810.5060 - val_acc: 0.0000e+00\n",
      "Epoch 29/100\n",
      "1008/1008 [==============================] - 3s 3ms/step - loss: -1969.7238 - acc: 0.0000e+00 - val_loss: -1875.2051 - val_acc: 0.0000e+00\n",
      "Epoch 30/100\n",
      "1008/1008 [==============================] - 2s 2ms/step - loss: -2038.8633 - acc: 0.0000e+00 - val_loss: -1939.8745 - val_acc: 0.0000e+00\n",
      "Epoch 31/100\n",
      "1008/1008 [==============================] - 2s 2ms/step - loss: -2107.9897 - acc: 0.0000e+00 - val_loss: -2004.5482 - val_acc: 0.0000e+00\n",
      "Epoch 32/100\n",
      "1008/1008 [==============================] - 2s 2ms/step - loss: -2177.1145 - acc: 0.0000e+00 - val_loss: -2069.2234 - val_acc: 0.0000e+00\n",
      "Epoch 33/100\n",
      "1008/1008 [==============================] - 3s 3ms/step - loss: -2246.2214 - acc: 0.0000e+00 - val_loss: -2133.8740 - val_acc: 0.0000e+00\n",
      "Epoch 34/100\n",
      "1008/1008 [==============================] - 2s 2ms/step - loss: -2315.3518 - acc: 0.0000e+00 - val_loss: -2198.5535 - val_acc: 0.0000e+00\n",
      "Epoch 35/100\n",
      "1008/1008 [==============================] - 3s 3ms/step - loss: -2384.4802 - acc: 0.0000e+00 - val_loss: -2263.2358 - val_acc: 0.0000e+00\n",
      "Epoch 36/100\n",
      "1008/1008 [==============================] - 2s 2ms/step - loss: -2453.6108 - acc: 0.0000e+00 - val_loss: -2327.9026 - val_acc: 0.0000e+00\n",
      "Epoch 37/100\n",
      "1008/1008 [==============================] - 2s 2ms/step - loss: -2522.7449 - acc: 0.0000e+00 - val_loss: -2392.5793 - val_acc: 0.0000e+00\n",
      "Epoch 38/100\n",
      "1008/1008 [==============================] - 2s 2ms/step - loss: -2591.8679 - acc: 0.0000e+00 - val_loss: -2457.2590 - val_acc: 0.0000e+00\n",
      "Epoch 39/100\n",
      "1008/1008 [==============================] - 2s 2ms/step - loss: -2661.0024 - acc: 0.0000e+00 - val_loss: -2521.9282 - val_acc: 0.0000e+00\n",
      "Epoch 40/100\n",
      "1008/1008 [==============================] - 2s 2ms/step - loss: -2730.1016 - acc: 0.0000e+00 - val_loss: -2586.5718 - val_acc: 0.0000e+00\n",
      "Epoch 41/100\n",
      "1008/1008 [==============================] - 2s 2ms/step - loss: -2799.2253 - acc: 0.0000e+00 - val_loss: -2651.2605 - val_acc: 0.0000e+00\n",
      "Epoch 42/100\n",
      "1008/1008 [==============================] - 2s 2ms/step - loss: -2868.3845 - acc: 0.0000e+00 - val_loss: -2715.9626 - val_acc: 0.0000e+00\n",
      "Epoch 43/100\n",
      "1008/1008 [==============================] - 2s 2ms/step - loss: -2937.4978 - acc: 0.0000e+00 - val_loss: -2780.5981 - val_acc: 0.0000e+00\n",
      "Epoch 44/100\n",
      "1008/1008 [==============================] - 2s 2ms/step - loss: -3006.6116 - acc: 0.0000e+00 - val_loss: -2845.2764 - val_acc: 0.0000e+00\n",
      "Epoch 45/100\n",
      "1008/1008 [==============================] - 2s 2ms/step - loss: -3075.7178 - acc: 0.0000e+00 - val_loss: -2909.9329 - val_acc: 0.0000e+00\n",
      "Epoch 46/100\n",
      "1008/1008 [==============================] - 2s 2ms/step - loss: -3144.8521 - acc: 0.0000e+00 - val_loss: -2974.6274 - val_acc: 0.0000e+00\n",
      "Epoch 47/100\n",
      "1008/1008 [==============================] - 2s 2ms/step - loss: -3213.9871 - acc: 0.0000e+00 - val_loss: -3039.2988 - val_acc: 0.0000e+00\n",
      "Epoch 48/100\n",
      "1008/1008 [==============================] - 2s 2ms/step - loss: -3283.1267 - acc: 0.0000e+00 - val_loss: -3103.9890 - val_acc: 0.0000e+00\n",
      "Epoch 49/100\n",
      "1008/1008 [==============================] - 2s 2ms/step - loss: -3352.2410 - acc: 0.0000e+00 - val_loss: -3168.6233 - val_acc: 0.0000e+00\n",
      "Epoch 50/100\n",
      "1008/1008 [==============================] - 2s 2ms/step - loss: -3421.3379 - acc: 0.0000e+00 - val_loss: -3233.2903 - val_acc: 0.0000e+00\n",
      "Epoch 51/100\n",
      "1008/1008 [==============================] - 2s 2ms/step - loss: -3490.4680 - acc: 0.0000e+00 - val_loss: -3297.9661 - val_acc: 0.0000e+00\n",
      "Epoch 52/100\n",
      "1008/1008 [==============================] - 2s 2ms/step - loss: -3559.6030 - acc: 0.0000e+00 - val_loss: -3362.6501 - val_acc: 0.0000e+00\n",
      "Epoch 53/100\n",
      "1008/1008 [==============================] - 2s 2ms/step - loss: -3628.7471 - acc: 0.0000e+00 - val_loss: -3427.3391 - val_acc: 0.0000e+00\n",
      "Epoch 54/100\n",
      "1008/1008 [==============================] - 2s 2ms/step - loss: -3697.8682 - acc: 0.0000e+00 - val_loss: -3491.9980 - val_acc: 0.0000e+00\n",
      "Epoch 55/100\n",
      "1008/1008 [==============================] - 2s 2ms/step - loss: -3766.9880 - acc: 0.0000e+00 - val_loss: -3556.6702 - val_acc: 0.0000e+00\n",
      "Epoch 56/100\n",
      "1008/1008 [==============================] - 2s 2ms/step - loss: -3836.1248 - acc: 0.0000e+00 - val_loss: -3621.3411 - val_acc: 0.0000e+00\n",
      "Epoch 57/100\n",
      "1008/1008 [==============================] - 2s 2ms/step - loss: -3905.2563 - acc: 0.0000e+00 - val_loss: -3686.0166 - val_acc: 0.0000e+00\n",
      "Epoch 58/100\n",
      "1008/1008 [==============================] - 2s 2ms/step - loss: -3974.3743 - acc: 0.0000e+00 - val_loss: -3750.7024 - val_acc: 0.0000e+00\n",
      "Epoch 59/100\n",
      "1008/1008 [==============================] - 2s 2ms/step - loss: -4043.5129 - acc: 0.0000e+00 - val_loss: -3815.3721 - val_acc: 0.0000e+00\n",
      "Epoch 60/100\n",
      "1008/1008 [==============================] - 2s 2ms/step - loss: -4112.6484 - acc: 0.0000e+00 - val_loss: -3880.0527 - val_acc: 0.0000e+00\n",
      "Epoch 61/100\n",
      "1008/1008 [==============================] - 2s 2ms/step - loss: -4181.7710 - acc: 0.0000e+00 - val_loss: -3944.7266 - val_acc: 0.0000e+00\n",
      "Epoch 62/100\n",
      "1008/1008 [==============================] - 2s 2ms/step - loss: -4250.9062 - acc: 0.0000e+00 - val_loss: -4009.3928 - val_acc: 0.0000e+00\n",
      "Epoch 63/100\n",
      "1008/1008 [==============================] - 2s 2ms/step - loss: -4320.0044 - acc: 0.0000e+00 - val_loss: -4074.0391 - val_acc: 0.0000e+00\n",
      "Epoch 64/100\n",
      "1008/1008 [==============================] - 2s 2ms/step - loss: -4389.1152 - acc: 0.0000e+00 - val_loss: -4138.7241 - val_acc: 0.0000e+00\n",
      "Epoch 65/100\n",
      "1008/1008 [==============================] - 2s 2ms/step - loss: -4458.2485 - acc: 0.0000e+00 - val_loss: -4203.4033 - val_acc: 0.0000e+00\n",
      "Epoch 66/100\n",
      "1008/1008 [==============================] - 2s 2ms/step - loss: -4527.3862 - acc: 0.0000e+00 - val_loss: -4268.0796 - val_acc: 0.0000e+00\n",
      "Epoch 67/100\n",
      "1008/1008 [==============================] - 2s 2ms/step - loss: -4596.5332 - acc: 0.0000e+00 - val_loss: -4332.7769 - val_acc: 0.0000e+00\n",
      "Epoch 68/100\n",
      "1008/1008 [==============================] - 2s 2ms/step - loss: -4665.6699 - acc: 0.0000e+00 - val_loss: -4397.4434 - val_acc: 0.0000e+00\n",
      "Epoch 69/100\n",
      "1008/1008 [==============================] - 2s 2ms/step - loss: -4734.7759 - acc: 0.0000e+00 - val_loss: -4462.0791 - val_acc: 0.0000e+00\n",
      "Epoch 70/100\n",
      "1008/1008 [==============================] - 2s 2ms/step - loss: -4803.9004 - acc: 0.0000e+00 - val_loss: -4526.7871 - val_acc: 0.0000e+00\n",
      "Epoch 71/100\n",
      "1008/1008 [==============================] - 2s 2ms/step - loss: -4873.0586 - acc: 0.0000e+00 - val_loss: -4591.4790 - val_acc: 0.0000e+00\n",
      "Epoch 72/100\n",
      "1008/1008 [==============================] - 3s 3ms/step - loss: -4942.1816 - acc: 0.0000e+00 - val_loss: -4656.1211 - val_acc: 0.0000e+00\n",
      "Epoch 73/100\n",
      "1008/1008 [==============================] - 3s 3ms/step - loss: -5011.2925 - acc: 0.0000e+00 - val_loss: -4720.8228 - val_acc: 0.0000e+00\n",
      "Epoch 74/100\n",
      "1008/1008 [==============================] - 2s 2ms/step - loss: -5080.4507 - acc: 0.0000e+00 - val_loss: -4785.5063 - val_acc: 0.0000e+00\n",
      "Epoch 75/100\n",
      "1008/1008 [==============================] - 2s 2ms/step - loss: -5149.5571 - acc: 0.0000e+00 - val_loss: -4850.1470 - val_acc: 0.0000e+00\n",
      "Epoch 76/100\n",
      "1008/1008 [==============================] - 2s 2ms/step - loss: -5218.7021 - acc: 0.0000e+00 - val_loss: -4914.8589 - val_acc: 0.0000e+00\n",
      "Epoch 77/100\n",
      "1008/1008 [==============================] - 2s 2ms/step - loss: -5287.8203 - acc: 0.0000e+00 - val_loss: -4979.4902 - val_acc: 0.0000e+00\n",
      "Epoch 78/100\n",
      "1008/1008 [==============================] - 2s 2ms/step - loss: -5356.9355 - acc: 0.0000e+00 - val_loss: -5044.1680 - val_acc: 0.0000e+00\n",
      "Epoch 79/100\n",
      "1008/1008 [==============================] - 2s 2ms/step - loss: -5426.0630 - acc: 0.0000e+00 - val_loss: -5108.8525 - val_acc: 0.0000e+00\n",
      "Epoch 80/100\n",
      "1008/1008 [==============================] - 2s 2ms/step - loss: -5495.1572 - acc: 0.0000e+00 - val_loss: -5173.4819 - val_acc: 0.0000e+00\n",
      "Epoch 81/100\n",
      "1008/1008 [==============================] - 2s 2ms/step - loss: -5564.2856 - acc: 0.0000e+00 - val_loss: -5238.1631 - val_acc: 0.0000e+00\n",
      "Epoch 82/100\n",
      "1008/1008 [==============================] - 2s 2ms/step - loss: -5633.4404 - acc: 0.0000e+00 - val_loss: -5302.8687 - val_acc: 0.0000e+00\n",
      "Epoch 83/100\n",
      "1008/1008 [==============================] - 2s 2ms/step - loss: -5702.5698 - acc: 0.0000e+00 - val_loss: -5367.5308 - val_acc: 0.0000e+00\n",
      "Epoch 84/100\n",
      "1008/1008 [==============================] - 2s 2ms/step - loss: -5771.6826 - acc: 0.0000e+00 - val_loss: -5432.1929 - val_acc: 0.0000e+00\n",
      "Epoch 85/100\n",
      "1008/1008 [==============================] - 2s 2ms/step - loss: -5840.7959 - acc: 0.0000e+00 - val_loss: -5496.8525 - val_acc: 0.0000e+00\n",
      "Epoch 86/100\n",
      "1008/1008 [==============================] - 2s 2ms/step - loss: -5909.9248 - acc: 0.0000e+00 - val_loss: -5561.5312 - val_acc: 0.0000e+00\n",
      "Epoch 87/100\n",
      "1008/1008 [==============================] - 2s 2ms/step - loss: -5979.0781 - acc: 0.0000e+00 - val_loss: -5626.2339 - val_acc: 0.0000e+00\n",
      "Epoch 88/100\n",
      "1008/1008 [==============================] - 2s 2ms/step - loss: -6048.2095 - acc: 0.0000e+00 - val_loss: -5690.8936 - val_acc: 0.0000e+00\n",
      "Epoch 89/100\n",
      "1008/1008 [==============================] - 2s 2ms/step - loss: -6117.3452 - acc: 0.0000e+00 - val_loss: -5755.5835 - val_acc: 0.0000e+00\n",
      "Epoch 90/100\n",
      "1008/1008 [==============================] - 2s 2ms/step - loss: -6186.4756 - acc: 0.0000e+00 - val_loss: -5820.2505 - val_acc: 0.0000e+00\n",
      "Epoch 91/100\n",
      "1008/1008 [==============================] - 2s 2ms/step - loss: -6255.5811 - acc: 0.0000e+00 - val_loss: -5884.8984 - val_acc: 0.0000e+00\n",
      "Epoch 92/100\n",
      "1008/1008 [==============================] - 2s 2ms/step - loss: -6324.6753 - acc: 0.0000e+00 - val_loss: -5949.5703 - val_acc: 0.0000e+00\n",
      "Epoch 93/100\n",
      "1008/1008 [==============================] - 2s 2ms/step - loss: -6393.8120 - acc: 0.0000e+00 - val_loss: -6014.2549 - val_acc: 0.0000e+00\n",
      "Epoch 94/100\n",
      "1008/1008 [==============================] - 2s 2ms/step - loss: -6462.9404 - acc: 0.0000e+00 - val_loss: -6078.9214 - val_acc: 0.0000e+00\n",
      "Epoch 95/100\n",
      "1008/1008 [==============================] - 2s 2ms/step - loss: -6532.0820 - acc: 0.0000e+00 - val_loss: -6143.6157 - val_acc: 0.0000e+00\n",
      "Epoch 96/100\n",
      "1008/1008 [==============================] - 2s 2ms/step - loss: -6601.2246 - acc: 0.0000e+00 - val_loss: -6208.2935 - val_acc: 0.0000e+00\n",
      "Epoch 97/100\n",
      "1008/1008 [==============================] - 2s 2ms/step - loss: -6670.3667 - acc: 0.0000e+00 - val_loss: -6272.9839 - val_acc: 0.0000e+00\n",
      "Epoch 98/100\n",
      "1008/1008 [==============================] - 2s 2ms/step - loss: -6739.5093 - acc: 0.0000e+00 - val_loss: -6337.6704 - val_acc: 0.0000e+00\n",
      "Epoch 99/100\n",
      "1008/1008 [==============================] - 2s 2ms/step - loss: -6808.6431 - acc: 0.0000e+00 - val_loss: -6402.3374 - val_acc: 0.0000e+00\n",
      "Epoch 100/100\n",
      "1008/1008 [==============================] - 2s 2ms/step - loss: -6877.7500 - acc: 0.0000e+00 - val_loss: -6467.0015 - val_acc: 0.0000e+00\n"
     ]
    }
   ],
   "source": [
    "# Fit the model\n",
    "history = model.fit(X, Y, validation_split=0.33, epochs=100, batch_size=10)"
   ]
  },
  {
   "cell_type": "code",
   "execution_count": 25,
   "metadata": {
    "ExecuteTime": {
     "end_time": "2021-07-29T19:03:54.105775Z",
     "start_time": "2021-07-29T19:03:53.559236Z"
    }
   },
   "outputs": [
    {
     "name": "stdout",
     "output_type": "stream",
     "text": [
      "470/470 [==============================] - 0s 959us/step - loss: -6765.3867 - acc: 0.0000e+00\n",
      "acc: 0.00%\n"
     ]
    }
   ],
   "source": [
    "# evaluate the model\n",
    "scores = model.evaluate(X, Y)\n",
    "print(\"%s: %.2f%%\" % (model.metrics_names[1], scores[1]*100))"
   ]
  },
  {
   "cell_type": "code",
   "execution_count": 27,
   "metadata": {
    "ExecuteTime": {
     "end_time": "2021-07-29T19:04:17.900904Z",
     "start_time": "2021-07-29T19:04:17.890929Z"
    }
   },
   "outputs": [
    {
     "data": {
      "text/plain": [
       "dict_keys(['loss', 'acc', 'val_loss', 'val_acc'])"
      ]
     },
     "execution_count": 27,
     "metadata": {},
     "output_type": "execute_result"
    }
   ],
   "source": [
    "history.history.keys()"
   ]
  },
  {
   "cell_type": "code",
   "execution_count": 29,
   "metadata": {
    "ExecuteTime": {
     "end_time": "2021-07-29T19:05:17.498569Z",
     "start_time": "2021-07-29T19:05:17.286157Z"
    }
   },
   "outputs": [
    {
     "data": {
      "image/png": "[encoded data removed]",
      "text/plain": [
       "<Figure size 432x288 with 1 Axes>"
      ]
     },
     "metadata": {
      "needs_background": "light"
     },
     "output_type": "display_data"
    }
   ],
   "source": [
    "# summarize history for accuracy\n",
    "import matplotlib.pyplot as plt\n",
    "get_ipython().run_line_magic('matplotlib', 'inline')\n",
    "plt.plot(history.history['acc'])\n",
    "plt.plot(history.history['val_acc'])\n",
    "plt.title('model accuracy')\n",
    "plt.ylabel('accuracy')\n",
    "plt.xlabel('epoch')\n",
    "plt.legend(['train', 'test'], loc='upper left')\n",
    "plt.show()"
   ]
  },
  {
   "cell_type": "code",
   "execution_count": 30,
   "metadata": {
    "ExecuteTime": {
     "end_time": "2021-07-29T19:05:22.455462Z",
     "start_time": "2021-07-29T19:05:22.225069Z"
    }
   },
   "outputs": [
    {
     "data": {
      "image/png": "[encoded data removed]",
      "text/plain": [
       "<Figure size 432x288 with 1 Axes>"
      ]
     },
     "metadata": {
      "needs_background": "light"
     },
     "output_type": "display_data"
    }
   ],
   "source": [
    "# summarize history for loss\n",
    "plt.plot(history.history['loss'])\n",
    "plt.plot(history.history['val_loss'])\n",
    "plt.title('model loss')\n",
    "plt.ylabel('loss')\n",
    "plt.xlabel('epoch')\n",
    "plt.legend(['train', 'test'], loc='upper left')\n",
    "plt.show()"
   ]
  }
 ],
 "metadata": {
  "kernelspec": {
   "display_name": "Python 3",
   "language": "python",
   "name": "python3"
  },
  "language_info": {
   "codemirror_mode": {
    "name": "ipython",
    "version": 3
   },
   "file_extension": ".py",
   "mimetype": "text/x-python",
   "name": "python",
   "nbconvert_exporter": "python",
   "pygments_lexer": "ipython3",
   "version": "3.8.3"
  },
  "varInspector": {
   "cols": {
    "lenName": 16,
    "lenType": 16,
    "lenVar": 40
   },
   "kernels_config": {
    "python": {
     "delete_cmd_postfix": "",
     "delete_cmd_prefix": "del ",
     "library": "var_list.py",
     "varRefreshCmd": "print(var_dic_list())"
    },
    "r": {
     "delete_cmd_postfix": ") ",
     "delete_cmd_prefix": "rm(",
     "library": "var_list.r",
     "varRefreshCmd": "cat(var_dic_list()) "
    }
   },
   "types_to_exclude": [
    "module",
    "function",
    "builtin_function_or_method",
    "instance",
    "_Feature"
   ],
   "window_display": false
  }
 },
 "nbformat": 4,
 "nbformat_minor": 4
}
